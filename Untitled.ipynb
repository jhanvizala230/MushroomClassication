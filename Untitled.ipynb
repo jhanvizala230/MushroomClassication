{
 "cells": [
  {
   "cell_type": "code",
   "execution_count": 1,
   "id": "5738cd01",
   "metadata": {},
   "outputs": [],
   "source": [
    "import pandas as pd\n",
    "import numpy as np\n",
    "import os\n",
    "import shutil\n",
    "from sklearn.decomposition import PCA\n",
    "from sklearn.discriminant_analysis import LinearDiscriminantAnalysis\n",
    "from sklearn.linear_model import LogisticRegression\n",
    "from sklearn.model_selection import cross_val_score\n",
    "from sklearn.model_selection import RepeatedStratifiedKFold\n",
    "from numpy import mean\n",
    "from numpy import std\n",
    "from sklearn.pipeline import Pipeline\n",
    "from sklearn.ensemble import BaggingClassifier\n",
    "from sklearn import svm\n",
    "from sklearn.ensemble import RandomForestClassifier\n",
    "from sklearn.model_selection import train_test_split\n",
    "import joblib\n",
    "from sklearn.preprocessing import OneHotEncoder\n",
    "from sklearn.compose import make_column_transformer\n",
    "from sklearn.model_selection import GridSearchCV\n",
    "\n",
    "from sklearn.metrics import accuracy_score"
   ]
  },
  {
   "cell_type": "code",
   "execution_count": 2,
   "id": "fb544361",
   "metadata": {},
   "outputs": [
    {
     "name": "stdout",
     "output_type": "stream",
     "text": [
      "       class  cap-diameter cap-shape cap-surface cap-color  \\\n",
      "0          1         15.26         x           g         o   \n",
      "1          1         16.60         x           g         o   \n",
      "2          1         14.07         x           g         o   \n",
      "3          1         14.17         f           h         e   \n",
      "4          1         14.64         x           h         o   \n",
      "...      ...           ...       ...         ...       ...   \n",
      "61064      1          1.18         s           s         y   \n",
      "61065      1          1.27         f           s         y   \n",
      "61066      1          1.27         s           s         y   \n",
      "61067      1          1.24         f           s         y   \n",
      "61068      1          1.17         s           s         y   \n",
      "\n",
      "      does-bruise-or-bleed gill-attachment gill-spacing gill-color  \\\n",
      "0                        f               e            z          w   \n",
      "1                        f               e            z          w   \n",
      "2                        f               e            z          w   \n",
      "3                        f               e            z          w   \n",
      "4                        f               e            z          w   \n",
      "...                    ...             ...          ...        ...   \n",
      "61064                    f               f            f          f   \n",
      "61065                    f               f            f          f   \n",
      "61066                    f               f            f          f   \n",
      "61067                    f               f            f          f   \n",
      "61068                    f               f            f          f   \n",
      "\n",
      "       stem-height  ...  stem-root stem-surface stem-color veil-type  \\\n",
      "0            16.95  ...          s            y          w         u   \n",
      "1            17.99  ...          s            y          w         u   \n",
      "2            17.80  ...          s            y          w         u   \n",
      "3            15.77  ...          s            y          w         u   \n",
      "4            16.53  ...          s            y          w         u   \n",
      "...            ...  ...        ...          ...        ...       ...   \n",
      "61064         3.93  ...          z            z          y         z   \n",
      "61065         3.18  ...          z            z          y         z   \n",
      "61066         3.86  ...          z            z          y         z   \n",
      "61067         3.56  ...          z            z          y         z   \n",
      "61068         3.25  ...          z            z          y         z   \n",
      "\n",
      "      veil-color has-ring ring-type spore-print-color habitat season  \n",
      "0              w        t         g                 z       d      w  \n",
      "1              w        t         g                 z       d      u  \n",
      "2              w        t         g                 z       d      w  \n",
      "3              w        t         p                 z       d      w  \n",
      "4              w        t         p                 z       d      w  \n",
      "...          ...      ...       ...               ...     ...    ...  \n",
      "61064          z        f         f                 z       d      a  \n",
      "61065          z        f         f                 z       d      a  \n",
      "61066          z        f         f                 z       d      u  \n",
      "61067          z        f         f                 z       d      u  \n",
      "61068          z        f         f                 z       d      u  \n",
      "\n",
      "[61069 rows x 21 columns]\n"
     ]
    }
   ],
   "source": [
    "# read csv using pandas\n",
    "from numpy import nan\n",
    "from sklearn import preprocessing\n",
    "\n",
    "\n",
    "df = pd.read_csv('./secondary_data.csv',sep = ';')\n",
    "label_encoder = preprocessing.LabelEncoder()\n",
    "df['class'] = label_encoder.fit_transform(df['class'])\n",
    "\n",
    "# temp = label_encoder.fit_transform(df['class'])\n",
    "\n",
    "df = df.replace(nan,'z')\n",
    "print(df)"
   ]
  },
  {
   "cell_type": "code",
   "execution_count": 3,
   "id": "fd1ad9ac",
   "metadata": {},
   "outputs": [
    {
     "name": "stdout",
     "output_type": "stream",
     "text": [
      "   onehotencoder__x0_b  onehotencoder__x0_c  onehotencoder__x0_f  \\\n",
      "0                  0.0                  0.0                  0.0   \n",
      "1                  0.0                  0.0                  0.0   \n",
      "2                  0.0                  0.0                  0.0   \n",
      "3                  0.0                  0.0                  1.0   \n",
      "4                  0.0                  0.0                  0.0   \n",
      "\n",
      "   onehotencoder__x0_o  onehotencoder__x0_p  onehotencoder__x0_s  \\\n",
      "0                  0.0                  0.0                  0.0   \n",
      "1                  0.0                  0.0                  0.0   \n",
      "2                  0.0                  0.0                  0.0   \n",
      "3                  0.0                  0.0                  0.0   \n",
      "4                  0.0                  0.0                  0.0   \n",
      "\n",
      "   onehotencoder__x0_x  onehotencoder__x1_d  onehotencoder__x1_e  \\\n",
      "0                  1.0                  0.0                  0.0   \n",
      "1                  1.0                  0.0                  0.0   \n",
      "2                  1.0                  0.0                  0.0   \n",
      "3                  0.0                  0.0                  0.0   \n",
      "4                  1.0                  0.0                  0.0   \n",
      "\n",
      "   onehotencoder__x1_g  ...  onehotencoder__x15_u  onehotencoder__x15_w  \\\n",
      "0                  1.0  ...                   0.0                   0.0   \n",
      "1                  1.0  ...                   0.0                   0.0   \n",
      "2                  1.0  ...                   0.0                   0.0   \n",
      "3                  0.0  ...                   0.0                   0.0   \n",
      "4                  0.0  ...                   0.0                   0.0   \n",
      "\n",
      "   onehotencoder__x16_a  onehotencoder__x16_s  onehotencoder__x16_u  \\\n",
      "0                   0.0                   0.0                   0.0   \n",
      "1                   0.0                   0.0                   1.0   \n",
      "2                   0.0                   0.0                   0.0   \n",
      "3                   0.0                   0.0                   0.0   \n",
      "4                   0.0                   0.0                   0.0   \n",
      "\n",
      "   onehotencoder__x16_w  class  cap-diameter  stem-height  stem-width  \n",
      "0                   1.0    1.0         15.26        16.95       17.09  \n",
      "1                   0.0    1.0         16.60        17.99       18.19  \n",
      "2                   1.0    1.0         14.07        17.80       17.74  \n",
      "3                   1.0    1.0         14.17        15.77       15.98  \n",
      "4                   1.0    1.0         14.64        16.53       17.20  \n",
      "\n",
      "[5 rows x 128 columns]\n"
     ]
    },
    {
     "name": "stderr",
     "output_type": "stream",
     "text": [
      "/media/jhanvi/my_drive/anaconda/media/jhanvi/my_drive/anaconda/envs/project_env/lib/python3.10/site-packages/sklearn/utils/deprecation.py:87: FutureWarning: Function get_feature_names is deprecated; get_feature_names is deprecated in 1.0 and will be removed in 1.2. Please use get_feature_names_out instead.\n",
      "  warnings.warn(msg, category=FutureWarning)\n"
     ]
    }
   ],
   "source": [
    "categorical_col = ['cap-shape',\n",
    "                   \n",
    "                   'cap-surface','cap-color','does-bruise-or-bleed','gill-attachment','gill-spacing',\n",
    "                  'gill-color','stem-root','stem-surface','stem-color','veil-type','veil-color','has-ring',\n",
    "                  'ring-type','spore-print-color','habitat','season']\n",
    "transformer = make_column_transformer(\n",
    "    (OneHotEncoder(sparse=False), categorical_col),\n",
    "    remainder='passthrough')\n",
    "\n",
    "transformed = transformer.fit_transform(df)\n",
    "transformed_df = pd.DataFrame(transformed, columns=transformer.get_feature_names())\n",
    "print(transformed_df.head())\n"
   ]
  },
  {
   "cell_type": "code",
   "execution_count": 4,
   "id": "a6a82314",
   "metadata": {},
   "outputs": [
    {
     "name": "stdout",
     "output_type": "stream",
     "text": [
      "[[ 0.    0.    0.   ...  1.   15.26 16.95]\n",
      " [ 0.    0.    0.   ...  1.   16.6  17.99]\n",
      " [ 0.    0.    0.   ...  1.   14.07 17.8 ]\n",
      " ...\n",
      " [ 0.    0.    0.   ...  1.    1.27  3.86]\n",
      " [ 0.    0.    1.   ...  1.    1.24  3.56]\n",
      " [ 0.    0.    0.   ...  1.    1.17  3.25]]\n"
     ]
    }
   ],
   "source": [
    "y = (transformed_df.loc[:,['class']].values).reshape(-1)\n",
    "transformed_df.drop(['class'], axis=1)\n",
    "X = transformed_df.iloc[:,0:-1].values\n",
    "print(X)"
   ]
  },
  {
   "cell_type": "code",
   "execution_count": 5,
   "id": "3e49774f",
   "metadata": {},
   "outputs": [],
   "source": [
    "X_train, X_test, y_train, y_test = train_test_split(X, y, test_size=0.33, random_state=42)"
   ]
  },
  {
   "cell_type": "code",
   "execution_count": 6,
   "id": "bf3c5c3b",
   "metadata": {},
   "outputs": [
    {
     "name": "stdout",
     "output_type": "stream",
     "text": [
      "RandomForestClassifier: {'max_depth': 5, 'n_estimators': 200}\n",
      "Model Train Score: 1.000, \n"
     ]
    },
    {
     "data": {
      "text/plain": [
       "['rfc.pkl']"
      ]
     },
     "execution_count": 6,
     "metadata": {},
     "output_type": "execute_result"
    }
   ],
   "source": [
    "param_grid = {'max_depth': [5,10],'n_estimators': [200]}\n",
    "\n",
    "model = RandomForestClassifier()\n",
    "grid = GridSearchCV(estimator=model, param_grid=param_grid, cv = 10)\n",
    "grid.fit(X_train, y_train)\n",
    "\n",
    "best_grid = grid.best_params_\n",
    "print('RandomForestClassifier:',best_grid)\n",
    "rfc=RandomForestClassifier(random_state=0, n_estimators= best_grid['n_estimators'], max_depth=best_grid['max_depth'])\n",
    "\n",
    "rfc.fit(X_train,y_train)\n",
    "\n",
    "print('Model Train Score: %.3f, ' %rfc.score(X_train, y_train))\n",
    "joblib.dump(rfc, 'rfc.pkl')"
   ]
  },
  {
   "cell_type": "code",
   "execution_count": null,
   "id": "a6a62afd",
   "metadata": {},
   "outputs": [],
   "source": [
    "# param_grid = {'C': [0.01,0.1, 1, 10], \n",
    "#               'gamma': [1, 0.1, 0.01, 0.001, 0.0001],\n",
    "#               'kernel': ['rbf']} \n",
    "\n",
    "# model = svm.SVC()\n",
    "\n",
    "# grid = GridSearchCV(estimator=model, param_grid=param_grid, cv = 15)\n",
    "# grid.fit(X_train, y_train)\n",
    "\n",
    "# best_grid = grid.best_params_\n",
    "# print('SVM Grid:',best_grid)\n",
    "\n",
    "# model = svm.SVC(C=best_grid['C'],kernel = best_grid['kernel'],\n",
    "#                   gamma = best_grid['gamma'],random_state=42)\n",
    "\n",
    "# model.fit(train_X,train_Y)\n",
    "# print('Model Train Score: %.3f, ' %model.score(X_train, y_train))\n",
    "# joblib.dump(model, 'svm_grid.pkl')"
   ]
  },
  {
   "cell_type": "code",
   "execution_count": 9,
   "id": "7f3a7a89",
   "metadata": {},
   "outputs": [
    {
     "name": "stdout",
     "output_type": "stream",
     "text": [
      "Random Forest Classfication Test Set Prediction:\n",
      "              precision    recall  f1-score   support\n",
      "\n",
      "           1       1.00      1.00      1.00      8923\n",
      "           0       1.00      1.00      1.00     11230\n",
      "\n",
      "    accuracy                           1.00     20153\n",
      "   macro avg       1.00      1.00      1.00     20153\n",
      "weighted avg       1.00      1.00      1.00     20153\n",
      "\n",
      "Test Accuracy :1.0 \n",
      "[0. 1. 0. ... 0. 1. 0.]\n",
      "[0. 1. 0. ... 0. 1. 0.]\n",
      "accuracy for  1.0\n"
     ]
    }
   ],
   "source": [
    "from sklearn.metrics import classification_report\n",
    "from sklearn.metrics import accuracy_score\n",
    "\n",
    "target_names = ['1', '0']\n",
    "\n",
    "yhat_rfc = rfc.predict(X_test)\n",
    "rfc_report = classification_report(y_test, yhat_rfc, target_names=target_names)\n",
    "rfc_accuracy = accuracy_score(y_test, yhat_rfc)\n",
    "print(\"Random Forest Classfication Test Set Prediction:\")\n",
    "print(rfc_report)\n",
    "print(f\"Test Accuracy :{rfc_accuracy} \")\n",
    "\n",
    "\n",
    "\n",
    "print(y_test)\n",
    "print(yhat_rfc)\n",
    "print('accuracy for ',accuracy_score(y_test,yhat_rfc))\n",
    "# print('jaccard_similarity_score for k=',jaccard_similarity_score(y_test,y_hat))\n",
    "# print('f1_score for k=',f1_score(y_test,y_hat,average='macro'))"
   ]
  },
  {
   "cell_type": "code",
   "execution_count": null,
   "id": "1dc1ddae",
   "metadata": {},
   "outputs": [],
   "source": []
  }
 ],
 "metadata": {
  "kernelspec": {
   "display_name": "Python 3 (ipykernel)",
   "language": "python",
   "name": "python3"
  },
  "language_info": {
   "codemirror_mode": {
    "name": "ipython",
    "version": 3
   },
   "file_extension": ".py",
   "mimetype": "text/x-python",
   "name": "python",
   "nbconvert_exporter": "python",
   "pygments_lexer": "ipython3",
   "version": "3.10.8"
  }
 },
 "nbformat": 4,
 "nbformat_minor": 5
}
